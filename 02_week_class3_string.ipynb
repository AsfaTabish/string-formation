{
 "cells": [
  {
   "cell_type": "code",
   "execution_count": 1,
   "metadata": {
    "colab": {
     "base_uri": "https://localhost:8080/"
    },
    "id": "CI1SidxSwbCW",
    "outputId": "6922c972-9553-427c-94c5-be9bda117544"
   },
   "outputs": [
    {
     "name": "stdout",
     "output_type": "stream",
     "text": [
      "Pakistan zinda bad\n"
     ]
    }
   ],
   "source": [
    "data = \"Pakistan zinda bad\"\n",
    "\n",
    "print(data)"
   ]
  },
  {
   "cell_type": "code",
   "execution_count": 1,
   "metadata": {
    "colab": {
     "base_uri": "https://localhost:8080/"
    },
    "id": "fZ-WhCHayw17",
    "outputId": "d4d79ccb-f0fa-4767-dbdd-1f159678e79c"
   },
   "outputs": [
    {
     "name": "stdout",
     "output_type": "stream",
     "text": [
      "Pakistan zinda bad\n",
      "<class 'str'>\n"
     ]
    }
   ],
   "source": [
    "data = \"Pakistan zinda bad\"\n",
    "\n",
    "print(data)\n",
    "print(type(data))"
   ]
  },
  {
   "cell_type": "code",
   "execution_count": 3,
   "metadata": {
    "colab": {
     "base_uri": "https://localhost:8080/"
    },
    "id": "1myuCkCjzNWy",
    "outputId": "f06c7cdc-b6f2-45e7-b0f7-4e50c2b70d42"
   },
   "outputs": [
    {
     "name": "stdout",
     "output_type": "stream",
     "text": [
      "Pakistan zinda bad 123 !@#$\n",
      "<class 'str'>\n"
     ]
    }
   ],
   "source": [
    "data = \"Pakistan zinda bad 123 !@#$\"\n",
    "\n",
    "print(data)\n",
    "print(type(data))"
   ]
  },
  {
   "cell_type": "code",
   "execution_count": 5,
   "metadata": {
    "colab": {
     "base_uri": "https://localhost:8080/"
    },
    "id": "i7C5ViyuzciH",
    "outputId": "e2d9b6f7-aa69-4176-bda4-51933de21fc4"
   },
   "outputs": [
    {
     "name": "stdout",
     "output_type": "stream",
     "text": [
      "Pakistan zinda bad\"Hello world\n",
      "<class 'str'>\n"
     ]
    }
   ],
   "source": [
    "data = 'Pakistan zinda bad\"Hello world'\n",
    "\n",
    "print(data)\n",
    "print(type(data))"
   ]
  },
  {
   "cell_type": "markdown",
   "metadata": {
    "id": "MaTRCGcl0nz-"
   },
   "source": [
    "convert special character into normal character\n",
    "place \" \\ \" in special character\n",
    "\n"
   ]
  },
  {
   "cell_type": "code",
   "execution_count": 4,
   "metadata": {},
   "outputs": [
    {
     "name": "stdout",
     "output_type": "stream",
     "text": [
      "Pakistan zinda bad' 123 !@#$  \" Hello world \n",
      "<class 'str'>\n"
     ]
    }
   ],
   "source": [
    "data = 'Pakistan zinda bad\\' 123 !@#$  \" Hello world '\n",
    "\n",
    "print(data)\n",
    "print(type(data))"
   ]
  },
  {
   "cell_type": "markdown",
   "metadata": {
    "id": "VzLKcrS71IeE"
   },
   "source": [
    "**assign multiline string**"
   ]
  },
  {
   "cell_type": "code",
   "execution_count": 6,
   "metadata": {
    "colab": {
     "base_uri": "https://localhost:8080/"
    },
    "id": "DqZc_x1O1R72",
    "outputId": "1e74514e-8652-4e66-8691-fc718a34eac0"
   },
   "outputs": [
    {
     "name": "stdout",
     "output_type": "stream",
     "text": [
      "Line1 pakistan Line2 Pakistan Line3 Pakistan \n",
      "<class 'str'>\n"
     ]
    }
   ],
   "source": [
    "abc = \"Line1 pakistan \"\\\n",
    "\"Line2 Pakistan \"\\\n",
    "\"Line3 Pakistan \"\n",
    "\n",
    "print(abc)\n",
    "print(type(abc))"
   ]
  },
  {
   "cell_type": "code",
   "execution_count": 7,
   "metadata": {
    "colab": {
     "base_uri": "https://localhost:8080/",
     "height": 35
    },
    "id": "KtoOYqAv1NPc",
    "outputId": "56c2d91d-ace2-4411-9a1e-53f016bfe53a"
   },
   "outputs": [
    {
     "data": {
      "application/vnd.google.colaboratory.intrinsic+json": {
       "type": "string"
      },
      "text/plain": [
       "'\\nline1 hello world\\nline2 Pakistan\\nline3 we love our country\\n'"
      ]
     },
     "execution_count": 7,
     "metadata": {},
     "output_type": "execute_result"
    }
   ],
   "source": [
    "abc = \"\"\"\n",
    "line1 hello world\n",
    "line2 Pakistan\n",
    "line3 we love our country\n",
    "\"\"\"\n",
    "abc"
   ]
  },
  {
   "cell_type": "code",
   "execution_count": 8,
   "metadata": {
    "colab": {
     "base_uri": "https://localhost:8080/"
    },
    "id": "s3SGtPn72Rf_",
    "outputId": "6cb914ad-7260-4830-fe20-45b3fafd7dc5"
   },
   "outputs": [
    {
     "name": "stdout",
     "output_type": "stream",
     "text": [
      "\n",
      "line1 hello world\n",
      "line2 Pakistan\n",
      "line3 we love our country\n",
      "\n",
      "<class 'str'>\n"
     ]
    }
   ],
   "source": [
    "abc = \"\"\"\n",
    "line1 hello world\n",
    "line2 Pakistan\n",
    "line3 we love our country\n",
    "\"\"\"\n",
    "print(abc)\n",
    "print(type(abc))"
   ]
  },
  {
   "cell_type": "markdown",
   "metadata": {
    "id": "0bp1zpuR3yRz"
   },
   "source": [
    "# concatination and text formation"
   ]
  },
  {
   "cell_type": "code",
   "execution_count": 9,
   "metadata": {
    "colab": {
     "base_uri": "https://localhost:8080/",
     "height": 175
    },
    "id": "K3izxByl38H7",
    "outputId": "3043c4c5-ab45-459a-f990-26c56a3c2230"
   },
   "outputs": [
    {
     "ename": "TypeError",
     "evalue": "ignored",
     "output_type": "error",
     "traceback": [
      "\u001b[0;31m---------------------------------------------------------------------------\u001b[0m",
      "\u001b[0;31mTypeError\u001b[0m                                 Traceback (most recent call last)",
      "\u001b[0;32m<ipython-input-9-ec358fc6499a>\u001b[0m in \u001b[0;36m<cell line: 1>\u001b[0;34m()\u001b[0m\n\u001b[0;32m----> 1\u001b[0;31m \u001b[0;34m\"1\"\u001b[0m \u001b[0;34m+\u001b[0m \u001b[0;36m1\u001b[0m\u001b[0;34m\u001b[0m\u001b[0;34m\u001b[0m\u001b[0m\n\u001b[0m",
      "\u001b[0;31mTypeError\u001b[0m: can only concatenate str (not \"int\") to str"
     ]
    }
   ],
   "source": [
    "\"1\" + 1"
   ]
  },
  {
   "cell_type": "code",
   "execution_count": 10,
   "metadata": {
    "colab": {
     "base_uri": "https://localhost:8080/",
     "height": 35
    },
    "id": "3u0WQ-sR4mrj",
    "outputId": "fce2271e-b562-4641-eafd-ee7804509998"
   },
   "outputs": [
    {
     "data": {
      "application/vnd.google.colaboratory.intrinsic+json": {
       "type": "string"
      },
      "text/plain": [
       "'11'"
      ]
     },
     "execution_count": 10,
     "metadata": {},
     "output_type": "execute_result"
    }
   ],
   "source": [
    "\"1\" + \"1\""
   ]
  },
  {
   "cell_type": "code",
   "execution_count": 11,
   "metadata": {
    "colab": {
     "base_uri": "https://localhost:8080/"
    },
    "id": "GB8Wllmg456M",
    "outputId": "fff71390-a447-4ed2-d1b9-868956ac5927"
   },
   "outputs": [
    {
     "data": {
      "text/plain": [
       "2"
      ]
     },
     "execution_count": 11,
     "metadata": {},
     "output_type": "execute_result"
    }
   ],
   "source": [
    "1 + 1"
   ]
  },
  {
   "cell_type": "code",
   "execution_count": 13,
   "metadata": {
    "colab": {
     "base_uri": "https://localhost:8080/"
    },
    "id": "4g4o0eQC49Q-",
    "outputId": "2efff18f-167c-43a3-cd77-e2b23baf0311"
   },
   "outputs": [
    {
     "name": "stdout",
     "output_type": "stream",
     "text": [
      "Enter no1:7\n",
      "Enter no2:8\n",
      "<class 'str'> <class 'str'>\n",
      "78\n"
     ]
    }
   ],
   "source": [
    "a = input(\"Enter no1:\")\n",
    "b = input(\"Enter no2:\")\n",
    "\n",
    "print(type(a),  type(b))\n",
    "print(a + b)"
   ]
  },
  {
   "cell_type": "markdown",
   "metadata": {
    "id": "_o5JQw8g5kIL"
   },
   "source": [
    "# Type Casting "
   ]
  },
  {
   "cell_type": "markdown",
   "metadata": {},
   "source": [
    ". int()\n",
    ". str()\n",
    ". float()\n",
    ". list()\n",
    ". tuple()\n",
    ". dict()\n",
    ". set()"
   ]
  },
  {
   "cell_type": "code",
   "execution_count": 18,
   "metadata": {
    "colab": {
     "base_uri": "https://localhost:8080/"
    },
    "id": "31qXJ5iB6Q2W",
    "outputId": "be79f577-9036-453a-8a81-38057bb50076"
   },
   "outputs": [
    {
     "name": "stdout",
     "output_type": "stream",
     "text": [
      "7 <class 'str'>\n",
      "7 <class 'int'>\n",
      "7.0 <class 'float'>\n"
     ]
    }
   ],
   "source": [
    "a = \"7\"\n",
    "print(a, type(a))\n",
    "\n",
    "a = int(a)\n",
    "print(a, type(a))\n",
    "\n",
    "a = float(a)\n",
    "print(a, type(a))"
   ]
  },
  {
   "cell_type": "code",
   "execution_count": 6,
   "metadata": {},
   "outputs": [
    {
     "name": "stdout",
     "output_type": "stream",
     "text": [
      "Enter no1:1\n",
      "Enter no21\n",
      "<class 'int'> <class 'int'>\n",
      "2\n"
     ]
    }
   ],
   "source": [
    "a = input(\"Enter no1:\")\n",
    "b = input(\"Enter no2\")\n",
    "a = int(a)\n",
    "b = int(b)\n",
    "print(type(a), type(b))\n",
    "print(a + b) # addition operation"
   ]
  },
  {
   "cell_type": "code",
   "execution_count": 26,
   "metadata": {
    "colab": {
     "base_uri": "https://localhost:8080/"
    },
    "id": "XamdIR5_7rQo",
    "outputId": "e9160585-73f4-491f-ad61-906676cf32a1"
   },
   "outputs": [
    {
     "name": "stdout",
     "output_type": "stream",
     "text": [
      "Enter no11\n",
      "Enter no21\n",
      "<class 'int'> <class 'int'>\n",
      "2\n"
     ]
    }
   ],
   "source": [
    " a = int(input(\"Enter no1\"))\n",
    " b = int(input(\"Enter no2\"))\n",
    " print(type(a), type(b))\n",
    " print(a + b)"
   ]
  },
  {
   "cell_type": "code",
   "execution_count": 27,
   "metadata": {
    "colab": {
     "base_uri": "https://localhost:8080/"
    },
    "id": "eZiFJHK79UsW",
    "outputId": "30f924ed-1ad3-411e-ad65-73a5301b65f5"
   },
   "outputs": [
    {
     "name": "stdout",
     "output_type": "stream",
     "text": [
      "Enter no17\n",
      "Enter no20\n",
      "<class 'float'> <class 'float'>\n",
      "7.0\n"
     ]
    }
   ],
   "source": [
    "a = float(input(\"Enter no1\"))\n",
    "b = float(input(\"Enter no2\"))\n",
    "print(type(a), type(b))\n",
    "print(a + b)"
   ]
  },
  {
   "cell_type": "code",
   "execution_count": 28,
   "metadata": {
    "colab": {
     "base_uri": "https://localhost:8080/"
    },
    "id": "pv4LUTA98ybL",
    "outputId": "09fd9154-16e7-49e3-9bd1-5f1d1430e5b9"
   },
   "outputs": [
    {
     "data": {
      "text/plain": [
       "2"
      ]
     },
     "execution_count": 28,
     "metadata": {},
     "output_type": "execute_result"
    }
   ],
   "source": [
    "int(\"1\") + 1"
   ]
  },
  {
   "cell_type": "code",
   "execution_count": 9,
   "metadata": {
    "colab": {
     "base_uri": "https://localhost:8080/"
    },
    "id": "e3QfTG-i-qX6",
    "outputId": "030b1073-eb9b-47b6-fa24-fbe0081ea1cf"
   },
   "outputs": [
    {
     "name": "stdout",
     "output_type": "stream",
     "text": [
      "NED University \n",
      "Student roll no:20\n",
      "Student name: Asfa TABISH\n",
      "Father name:Tabish\n",
      "Contact no: 03152968211\n"
     ]
    }
   ],
   "source": [
    "roll_no = 20\n",
    "name = \"Asfa TABISH\"\n",
    "fname = \"Tabish\"\n",
    "contact_no = \"03152968211\"\n",
    "\n",
    "card = \"NED University \\nStudent roll no:\" + str(roll_no)+\\\n",
    "\"\\nStudent name: \"+name + \"\\nFather name:\" +fname + \"\\nContact no: \"\\\n",
    "+ contact_no\n",
    "\n",
    "print(card)\n",
    "\n"
   ]
  },
  {
   "cell_type": "code",
   "execution_count": 10,
   "metadata": {
    "colab": {
     "base_uri": "https://localhost:8080/"
    },
    "id": "CtilVEWsD_HT",
    "outputId": "8cfcdaa1-f12a-437e-c87a-6e0161ca4b92"
   },
   "outputs": [
    {
     "name": "stdout",
     "output_type": "stream",
     "text": [
      "NED University\n",
      "Student roll no:20\n",
      "Student name: Asfa TABISH\n",
      "Father name:Tabish\n",
      "Contact no: 03152968211\n"
     ]
    }
   ],
   "source": [
    "roll_no = 20\n",
    "name = \"Asfa TABISH\"\n",
    "fname = \"Tabish\"\n",
    "contact_no = \"03152968211\"\n",
    "\n",
    "\n",
    "card = \"\"\"NED University\n",
    "Student roll no:{}\n",
    "Student name: {}\n",
    "Father name:{}\n",
    "Contact no: {}\"\"\".format(roll_no,name,fname,contact_no)\n",
    "\n",
    "print(card)"
   ]
  },
  {
   "cell_type": "code",
   "execution_count": 11,
   "metadata": {},
   "outputs": [
    {
     "name": "stdout",
     "output_type": "stream",
     "text": [
      "NED University\n",
      "Student roll no:200\n",
      "Student Name: Asfa Tabish\n",
      "Father's Name: Tabish\n",
      "Contact no: 03152968211\n"
     ]
    }
   ],
   "source": [
    "roll_no = 200\n",
    "name = \"Asfa Tabish\"\n",
    "fname = \"Tabish\"\n",
    "contact_no = \"03152968211\"\n",
    "\n",
    "card = \"\"\"NED University\n",
    "Student roll no:{}\n",
    "Student Name: {}\n",
    "Father's Name: {}\n",
    "Contact no: {}\"\"\".format(roll_no,name,fname,contact_no)\n",
    "#                          0      1     2      3\n",
    "\n",
    "print(card)\n",
    "     "
   ]
  },
  {
   "cell_type": "code",
   "execution_count": 12,
   "metadata": {
    "colab": {
     "base_uri": "https://localhost:8080/"
    },
    "id": "IqNiTN3GGQg_",
    "outputId": "d139e653-e591-4de6-a56e-9c84147494a3"
   },
   "outputs": [
    {
     "name": "stdout",
     "output_type": "stream",
     "text": [
      "NED University\n",
      "Student roll no:20\n",
      "Student name: Asfa TABISH\n",
      "Father name:Tabish\n",
      "Contact no: 03152968211\n"
     ]
    }
   ],
   "source": [
    "roll_no = 20\n",
    "name = \"Asfa TABISH\"\n",
    "fname = \"Tabish\"\n",
    "contact_no = \"03152968211\"\n",
    "\n",
    "card = f\"\"\"NED University\n",
    "Student roll no:{roll_no}\n",
    "Student name: {name }\n",
    "Father name:{fname}\n",
    "Contact no: {contact_no}\"\"\"\n",
    "\n",
    "print(card)\n",
    "\n"
   ]
  },
  {
   "cell_type": "code",
   "execution_count": 13,
   "metadata": {
    "id": "LL2meWylJMQM"
   },
   "outputs": [
    {
     "name": "stdout",
     "output_type": "stream",
     "text": [
      "roll no20\n",
      "Name: Asfa Tabish\n",
      "Father's NameTabish\n",
      "contact no:     03152968211 \n",
      "=====================\n",
      "NED University\n",
      "Student roll no:20\n",
      "Student Name: Asfa Tabish\n",
      "Father's Name: Tabish\n",
      "Contact no:     03152968211 \n"
     ]
    }
   ],
   "source": [
    "roll_no = input(\"roll no\")\n",
    "name = input(\"Name: \")\n",
    "fname = input(\"Father's Name\")\n",
    "contact_no = input(\"contact no: \")\n",
    "print('=====================')\n",
    "\n",
    "card = f\"\"\"NED University\n",
    "Student roll no:{roll_no}\n",
    "Student Name: {name}\n",
    "Father's Name: {fname}\n",
    "Contact no: {contact_no}\"\"\"\n",
    "\n",
    "print(card)\n",
    "     "
   ]
  },
  {
   "cell_type": "code",
   "execution_count": null,
   "metadata": {},
   "outputs": [],
   "source": [
    "%s  string\n",
    "%d number"
   ]
  },
  {
   "cell_type": "code",
   "execution_count": 14,
   "metadata": {},
   "outputs": [
    {
     "data": {
      "text/plain": [
       "'Student name Asfa Tabish \\n roll no: 20'"
      ]
     },
     "execution_count": 14,
     "metadata": {},
     "output_type": "execute_result"
    }
   ],
   "source": [
    "roll_no = 20\n",
    "name = \"Asfa Tabish\"\n",
    "\"Student name %s \\n roll no: %d\" % (name,roll_no)"
   ]
  },
  {
   "cell_type": "code",
   "execution_count": null,
   "metadata": {},
   "outputs": [],
   "source": []
  }
 ],
 "metadata": {
  "colab": {
   "provenance": []
  },
  "kernelspec": {
   "display_name": "Python 3 (ipykernel)",
   "language": "python",
   "name": "python3"
  },
  "language_info": {
   "codemirror_mode": {
    "name": "ipython",
    "version": 3
   },
   "file_extension": ".py",
   "mimetype": "text/x-python",
   "name": "python",
   "nbconvert_exporter": "python",
   "pygments_lexer": "ipython3",
   "version": "3.11.3"
  }
 },
 "nbformat": 4,
 "nbformat_minor": 1
}
